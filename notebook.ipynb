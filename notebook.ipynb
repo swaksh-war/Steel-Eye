{
 "cells": [
  {
   "cell_type": "code",
   "execution_count": 80,
   "metadata": {},
   "outputs": [],
   "source": [
    "import os\n",
    "import xml.etree.ElementTree as et"
   ]
  },
  {
   "cell_type": "code",
   "execution_count": 81,
   "metadata": {},
   "outputs": [],
   "source": [
    "tree = et.parse('DLTINS_20210118_01of01.zip\\DLTINS_20210118_01of01.xml')\n",
    "document = tree.getroot()"
   ]
  },
  {
   "cell_type": "code",
   "execution_count": 82,
   "metadata": {},
   "outputs": [
    {
     "name": "stdout",
     "output_type": "stream",
     "text": [
      "BizMsgIdr: DLTINS_20210119_02of02\n"
     ]
    }
   ],
   "source": [
    "tree = et.parse('DLTINS_20210119_02of02.zip\\DLTINS_20210119_02of02.xml')\n",
    "\n",
    "# get the root element\n",
    "root = tree.getroot()\n",
    "\n",
    "# find the value of BizMsgIdr element\n",
    "biz_msg_idr = root.find(\".//{urn:iso:std:iso:20022:tech:xsd:head.001.001.01}BizMsgIdr\").text\n",
    "print(f\"BizMsgIdr: {biz_msg_idr}\")\n",
    "fin_instrm_gnl_attrbts = root.findall(\".//{urn:iso:std:iso:20022:tech:xsd:auth.036.001.02}FinInstrm\")"
   ]
  },
  {
   "cell_type": "code",
   "execution_count": 83,
   "metadata": {},
   "outputs": [],
   "source": [
    "all_fininsterm_id_elem = root.findall(\".//{urn:iso:std:iso:20022:tech:xsd:auth.036.001.02}Id\")\n",
    "all_fininsterm_id = [i.text for i in all_fininsterm_id_elem]\n",
    "all_issr_elem = root.findall(\".//{urn:iso:std:iso:20022:tech:xsd:auth.036.001.02}Issr\")\n",
    "all_issr = [i.text for i in all_issr_elem]\n",
    "all_fullnn_elem = root.findall(\".//{urn:iso:std:iso:20022:tech:xsd:auth.036.001.02}FullNm\")\n",
    "all_fullnn = [i.text for i in all_fullnn_elem]\n",
    "all_shrtnm_elem = root.findall(\".//{urn:iso:std:iso:20022:tech:xsd:auth.036.001.02}ShrtNm\")\n",
    "all_shrtnm = [i.text for i in all_shrtnm_elem]\n",
    "all_classfnttp_elem = root.findall(\".//{urn:iso:std:iso:20022:tech:xsd:auth.036.001.02}ClssfctnTp\")\n",
    "all_classfnttp = [i.text for i in all_classfnttp_elem]\n",
    "all_ntnlccy_elem = root.findall(\".//{urn:iso:std:iso:20022:tech:xsd:auth.036.001.02}NtnlCcy\")\n",
    "all_ntnlccy = [i.text for i in all_ntnlccy_elem]\n",
    "all_cmdtderivind_elem = root.findall(\".//{urn:iso:std:iso:20022:tech:xsd:auth.036.001.02}NtnlCcy\")\n",
    "all_cmdtderivind = [i.text for i in all_cmdtderivind_elem]\n",
    "final_id = [all_fininsterm_id[i] for i in range(0, len(all_fininsterm_id), 2)]"
   ]
  },
  {
   "cell_type": "code",
   "execution_count": 84,
   "metadata": {},
   "outputs": [
    {
     "data": {
      "text/plain": [
       "350982"
      ]
     },
     "execution_count": 84,
     "metadata": {},
     "output_type": "execute_result"
    }
   ],
   "source": [
    "len(final_id)"
   ]
  },
  {
   "cell_type": "code",
   "execution_count": 85,
   "metadata": {},
   "outputs": [],
   "source": [
    "import pandas as pd\n"
   ]
  },
  {
   "cell_type": "code",
   "execution_count": 86,
   "metadata": {},
   "outputs": [],
   "source": [
    "data = {'FinInstrmGnlAttrbts.Id':final_id,\n",
    "        'FinInstrmGnlAttrbts.FullNm':all_fullnn,\n",
    "        'FinInstrmGnlAttrbts.ClssfctnTp':all_classfnttp,\n",
    "        'FinInstrmGnlAttrbts.CmmdtyDerivInd':all_cmdtderivind,\n",
    "        'FinInstrmGnlAttrbts.NtnlCcy':all_ntnlccy,\n",
    "        'Issr':all_issr\n",
    "        }"
   ]
  },
  {
   "cell_type": "code",
   "execution_count": 87,
   "metadata": {},
   "outputs": [],
   "source": [
    "df = pd.DataFrame(data)\n",
    "df.to_csv('demo.csv')"
   ]
  },
  {
   "cell_type": "code",
   "execution_count": null,
   "metadata": {},
   "outputs": [],
   "source": []
  }
 ],
 "metadata": {
  "kernelspec": {
   "display_name": "Python 3",
   "language": "python",
   "name": "python3"
  },
  "language_info": {
   "codemirror_mode": {
    "name": "ipython",
    "version": 3
   },
   "file_extension": ".py",
   "mimetype": "text/x-python",
   "name": "python",
   "nbconvert_exporter": "python",
   "pygments_lexer": "ipython3",
   "version": "3.10.10"
  },
  "orig_nbformat": 4
 },
 "nbformat": 4,
 "nbformat_minor": 2
}
